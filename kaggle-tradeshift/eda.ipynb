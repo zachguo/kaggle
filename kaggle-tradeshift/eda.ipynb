{
 "metadata": {
  "name": ""
 },
 "nbformat": 3,
 "nbformat_minor": 0,
 "worksheets": [
  {
   "cells": [
    {
     "cell_type": "code",
     "collapsed": false,
     "input": [
      "%matplotlib inline\n",
      "%pylab inline\n",
      "import pandas as pd\n",
      "pd.set_option('display.max_rows', 150)\n",
      "pd.set_option('display.max_columns', 60)"
     ],
     "language": "python",
     "metadata": {},
     "outputs": [
      {
       "output_type": "stream",
       "stream": "stdout",
       "text": [
        "Populating the interactive namespace from numpy and matplotlib\n"
       ]
      }
     ],
     "prompt_number": 1
    },
    {
     "cell_type": "code",
     "collapsed": false,
     "input": [
      "# load data\n",
      "df_test = pd.read_csv('data/test.csv', index_col='id')\n",
      "# df_train = pd.read_csv('data/train.csv', index_col='id')\n",
      "# print df_test.shape, df_train.shape"
     ],
     "language": "python",
     "metadata": {},
     "outputs": [],
     "prompt_number": 2
    },
    {
     "cell_type": "code",
     "collapsed": false,
     "input": [
      "# check missing values\n",
      "mvp_test = df_test.apply(pd.isnull).any()\n",
      "# check whether missing-value-patterns are same for train and test (they are the same!)\n",
      "# mvp_train = df_train.apply(pd.isnull).any()\n",
      "# print mvp_test == mvp_train\n",
      "# check variable type for missing values (they are all categorical or string variables!)\n",
      "df_test.dtypes[mvp_test]"
     ],
     "language": "python",
     "metadata": {},
     "outputs": [
      {
       "metadata": {},
       "output_type": "pyout",
       "prompt_number": 3,
       "text": [
        "x1      object\n",
        "x2      object\n",
        "x3      object\n",
        "x4      object\n",
        "x10     object\n",
        "x11     object\n",
        "x12     object\n",
        "x13     object\n",
        "x14     object\n",
        "x24     object\n",
        "x25     object\n",
        "x26     object\n",
        "x32     object\n",
        "x33     object\n",
        "x34     object\n",
        "x35     object\n",
        "x41     object\n",
        "x42     object\n",
        "x43     object\n",
        "x44     object\n",
        "x45     object\n",
        "x55     object\n",
        "x56     object\n",
        "x57     object\n",
        "x61     object\n",
        "x62     object\n",
        "x63     object\n",
        "x64     object\n",
        "x65     object\n",
        "x71     object\n",
        "x72     object\n",
        "x73     object\n",
        "x74     object\n",
        "x75     object\n",
        "x85     object\n",
        "x86     object\n",
        "x87     object\n",
        "x91     object\n",
        "x92     object\n",
        "x93     object\n",
        "x94     object\n",
        "x95     object\n",
        "x101    object\n",
        "x102    object\n",
        "x103    object\n",
        "x104    object\n",
        "x105    object\n",
        "x115    object\n",
        "x116    object\n",
        "x117    object\n",
        "x126    object\n",
        "x127    object\n",
        "x128    object\n",
        "x129    object\n",
        "x130    object\n",
        "x140    object\n",
        "x141    object\n",
        "x142    object\n",
        "Length: 58, dtype: object"
       ]
      }
     ],
     "prompt_number": 3
    },
    {
     "cell_type": "code",
     "collapsed": false,
     "input": [
      "df_test.get_dtype_counts()"
     ],
     "language": "python",
     "metadata": {},
     "outputs": [
      {
       "metadata": {},
       "output_type": "pyout",
       "prompt_number": 21,
       "text": [
        "float64    55\n",
        "int64      30\n",
        "object     60\n",
        "dtype: int64"
       ]
      }
     ],
     "prompt_number": 21
    },
    {
     "cell_type": "code",
     "collapsed": false,
     "input": [
      "# number of unique values for categorical vars\n",
      "num_unique_cat_vars = df_test.select_dtypes(include=[np.object]).astype(str).describe().ix['unique']\n",
      "print num_unique_cat_vars\n",
      "print num_unique_cat_vars[num_unique_cat_vars < 20000].index.tolist()"
     ],
     "language": "python",
     "metadata": {},
     "outputs": [
      {
       "output_type": "stream",
       "stream": "stdout",
       "text": [
        "x1           3\n",
        "x2           3\n",
        "x3       93659\n",
        "x4       11614\n",
        "x10          3\n",
        "x11          3\n",
        "x12          3\n",
        "x13          3\n",
        "x14          3\n",
        "x24          3\n",
        "x25          3\n",
        "x26          3\n",
        "x30          2\n",
        "x31          2\n",
        "x32          3\n",
        "x33          3\n",
        "x34     111290\n",
        "x35      15804\n",
        "x41          3\n",
        "x42          3\n",
        "x43          3\n",
        "x44          3\n",
        "x45          3\n",
        "x55          3\n",
        "x56          3\n",
        "x57          3\n",
        "x61     195766\n",
        "x62          3\n",
        "x63          3\n",
        "x64     114288\n",
        "x65      16328\n",
        "x71          3\n",
        "x72          3\n",
        "x73          3\n",
        "x74          3\n",
        "x75          3\n",
        "x85          3\n",
        "x86          3\n",
        "x87          3\n",
        "x91      62499\n",
        "x92          3\n",
        "x93          3\n",
        "x94      85547\n",
        "x95      11593\n",
        "x101         3\n",
        "x102         3\n",
        "x103         3\n",
        "x104         3\n",
        "x105         3\n",
        "x115         3\n",
        "x116         3\n",
        "x117         3\n",
        "x126         3\n",
        "x127         3\n",
        "x128         3\n",
        "x129         3\n",
        "x130         3\n",
        "x140         3\n",
        "x141         3\n",
        "x142         3\n",
        "Name: unique, Length: 60, dtype: object\n",
        "['x1', 'x2', 'x4', 'x10', 'x11', 'x12', 'x13', 'x14', 'x24', 'x25', 'x26', 'x30', 'x31', 'x32', 'x33', 'x35', 'x41', 'x42', 'x43', 'x44', 'x45', 'x55', 'x56', 'x57', 'x62', 'x63', 'x65', 'x71', 'x72', 'x73', 'x74', 'x75', 'x85', 'x86', 'x87', 'x92', 'x93', 'x95', 'x101', 'x102', 'x103', 'x104', 'x105', 'x115', 'x116', 'x117', 'x126', 'x127', 'x128', 'x129', 'x130', 'x140', 'x141', 'x142']\n"
       ]
      }
     ],
     "prompt_number": 11
    },
    {
     "cell_type": "code",
     "collapsed": false,
     "input": [],
     "language": "python",
     "metadata": {},
     "outputs": []
    }
   ],
   "metadata": {}
  }
 ]
}