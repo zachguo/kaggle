{
 "metadata": {
  "name": "",
  "signature": "sha256:d58522f83d0a19212084bb4012a54ce71cfcf801505cc0020ca2921fb1e79d18"
 },
 "nbformat": 3,
 "nbformat_minor": 0,
 "worksheets": [
  {
   "cells": [
    {
     "cell_type": "code",
     "collapsed": false,
     "input": [
      "%matplotlib inline\n",
      "%pylab inline\n",
      "import pandas as pd"
     ],
     "language": "python",
     "metadata": {},
     "outputs": [
      {
       "output_type": "stream",
       "stream": "stdout",
       "text": [
        "Populating the interactive namespace from numpy and matplotlib\n"
       ]
      }
     ],
     "prompt_number": 1
    },
    {
     "cell_type": "code",
     "collapsed": false,
     "input": [
      "train = pd.read_csv('data/train.csv', index_col=\"PIDN\")\n",
      "test = pd.read_csv('data/test.csv', index_col=\"PIDN\")\n",
      "COLS_TARGET = ['Ca', 'P', 'pH', 'SOC', 'Sand']\n",
      "COLS_FEATURES = train.columns - COLS_TARGET\n",
      "\n",
      "# # Simple descriptions:\n",
      "# train.describe()\n",
      "# test.describe()\n",
      "\n",
      "# # check missing values:\n",
      "# empty_df = train.applymap(pd.isnull).sum(axis=0)\n",
      "# print empty_df[empty_df > 0]\n",
      "\n",
      "# # check variable type:\n",
      "# typestr_df = train.apply(max, axis=0).apply(lambda x:isinstance(x, str))\n",
      "# typestr_df[typestr_df]\n",
      "# Categorical var 'Depth' only has 2 classes\n",
      "# print pd.get_dummies(train['Depth'])\n",
      "depth2int = {'Subsoil':0, 'Topsoil':1}\n",
      "train['Depth'] = train['Depth'].map(depth2int)\n",
      "test['Depth'] = test['Depth'].map(depth2int)"
     ],
     "language": "python",
     "metadata": {},
     "outputs": [],
     "prompt_number": 6
    },
    {
     "cell_type": "code",
     "collapsed": false,
     "input": [
      "# from sklearn.linear_model import LinearRegression\n",
      "from sklearn.neighbors import KNeighborsRegressor\n",
      "from sklearn.metrics import mean_squared_error\n",
      "from sklearn.cross_validation import KFold \n",
      "for train_idx, test_idx in KFold(train.shape[0], 10):\n",
      "    X_train = train.iloc[train_idx][COLS_FEATURES]\n",
      "    X_test = train.iloc[test_idx][COLS_FEATURES]\n",
      "    for target in COLS_TARGET:\n",
      "        y_train = train.iloc[train_idx][target].values\n",
      "        y_test = train.iloc[test_idx][target].values\n",
      "    #     clf = LinearRegression()\n",
      "        clf = KNeighborsRegressor(7)\n",
      "        y_pred = clf.fit(X_train, y_train).predict(X_test)\n",
      "        print target, ':', mean_squared_error(y_test, y_pred)"
     ],
     "language": "python",
     "metadata": {},
     "outputs": [
      {
       "output_type": "stream",
       "stream": "stdout",
       "text": [
        "SOC : 0.390944932571\n",
        "pH"
       ]
      },
      {
       "output_type": "stream",
       "stream": "stdout",
       "text": [
        " : 0.378090537444\n",
        "Ca"
       ]
      },
      {
       "output_type": "stream",
       "stream": "stdout",
       "text": [
        " : 0.0570877500572\n",
        "P"
       ]
      },
      {
       "output_type": "stream",
       "stream": "stdout",
       "text": [
        " : 0.546124071924\n",
        "Sand"
       ]
      },
      {
       "output_type": "stream",
       "stream": "stdout",
       "text": [
        " : 1.34377450859\n",
        "SOC"
       ]
      },
      {
       "output_type": "stream",
       "stream": "stdout",
       "text": [
        " : 0.24832832157\n",
        "pH"
       ]
      },
      {
       "output_type": "stream",
       "stream": "stdout",
       "text": [
        " : 0.348822726272\n",
        "Ca"
       ]
      },
      {
       "output_type": "stream",
       "stream": "stdout",
       "text": [
        " : 0.0306678276415\n",
        "P"
       ]
      },
      {
       "output_type": "stream",
       "stream": "stdout",
       "text": [
        " : 0.2474785765\n",
        "Sand"
       ]
      },
      {
       "output_type": "stream",
       "stream": "stdout",
       "text": [
        " : 0.502410914934\n",
        "SOC"
       ]
      },
      {
       "output_type": "stream",
       "stream": "stdout",
       "text": [
        " : 3.13046291809\n",
        "pH"
       ]
      },
      {
       "output_type": "stream",
       "stream": "stdout",
       "text": [
        " : 0.471034492296\n",
        "Ca"
       ]
      },
      {
       "output_type": "stream",
       "stream": "stdout",
       "text": [
        " : 2.96514302512\n",
        "P"
       ]
      },
      {
       "output_type": "stream",
       "stream": "stdout",
       "text": [
        " : 2.63971875458\n",
        "Sand"
       ]
      },
      {
       "output_type": "stream",
       "stream": "stdout",
       "text": [
        " : 0.272153147424\n",
        "SOC"
       ]
      },
      {
       "output_type": "stream",
       "stream": "stdout",
       "text": [
        " : 1.27900284308\n",
        "pH"
       ]
      },
      {
       "output_type": "stream",
       "stream": "stdout",
       "text": [
        " : 0.442069060205\n",
        "Ca"
       ]
      },
      {
       "output_type": "stream",
       "stream": "stdout",
       "text": [
        " : 0.326314338017\n",
        "P"
       ]
      },
      {
       "output_type": "stream",
       "stream": "stdout",
       "text": [
        " : 1.48796493126\n",
        "Sand"
       ]
      },
      {
       "output_type": "stream",
       "stream": "stdout",
       "text": [
        " : 0.292563584608\n",
        "SOC"
       ]
      },
      {
       "output_type": "stream",
       "stream": "stdout",
       "text": [
        " : 1.2207026894\n",
        "pH"
       ]
      },
      {
       "output_type": "stream",
       "stream": "stdout",
       "text": [
        " : 0.373969637511\n",
        "Ca"
       ]
      },
      {
       "output_type": "stream",
       "stream": "stdout",
       "text": [
        " : 0.563063444495\n",
        "P"
       ]
      },
      {
       "output_type": "stream",
       "stream": "stdout",
       "text": [
        " : 2.53773290695\n",
        "Sand"
       ]
      },
      {
       "output_type": "stream",
       "stream": "stdout",
       "text": [
        " : 0.375645812422\n",
        "SOC"
       ]
      },
      {
       "output_type": "stream",
       "stream": "stdout",
       "text": [
        " : 0.172179337633\n",
        "pH"
       ]
      },
      {
       "output_type": "stream",
       "stream": "stdout",
       "text": [
        " : 0.675118103243\n",
        "Ca"
       ]
      },
      {
       "output_type": "stream",
       "stream": "stdout",
       "text": [
        " : 0.343609126568\n",
        "P"
       ]
      },
      {
       "output_type": "stream",
       "stream": "stdout",
       "text": [
        " : 0.965036274348\n",
        "Sand"
       ]
      },
      {
       "output_type": "stream",
       "stream": "stdout",
       "text": [
        " : 0.332320366344\n",
        "SOC"
       ]
      },
      {
       "output_type": "stream",
       "stream": "stdout",
       "text": [
        " : 0.562864050668\n",
        "pH"
       ]
      },
      {
       "output_type": "stream",
       "stream": "stdout",
       "text": [
        " : 0.319652763542\n",
        "Ca"
       ]
      },
      {
       "output_type": "stream",
       "stream": "stdout",
       "text": [
        " : 0.0403655974144\n",
        "P"
       ]
      },
      {
       "output_type": "stream",
       "stream": "stdout",
       "text": [
        " : 0.736812977814\n",
        "Sand"
       ]
      },
      {
       "output_type": "stream",
       "stream": "stdout",
       "text": [
        " : 0.934217021959\n",
        "SOC"
       ]
      },
      {
       "output_type": "stream",
       "stream": "stdout",
       "text": [
        " : 0.180644487171\n",
        "pH"
       ]
      },
      {
       "output_type": "stream",
       "stream": "stdout",
       "text": [
        " : 0.335225321836\n",
        "Ca"
       ]
      },
      {
       "output_type": "stream",
       "stream": "stdout",
       "text": [
        " : 0.0661351332175\n",
        "P"
       ]
      },
      {
       "output_type": "stream",
       "stream": "stdout",
       "text": [
        " : 1.24057951227\n",
        "Sand"
       ]
      },
      {
       "output_type": "stream",
       "stream": "stdout",
       "text": [
        " : 0.235096576794\n",
        "SOC"
       ]
      },
      {
       "output_type": "stream",
       "stream": "stdout",
       "text": [
        " : 0.328074246011\n",
        "pH"
       ]
      },
      {
       "output_type": "stream",
       "stream": "stdout",
       "text": [
        " : 0.605093157237\n",
        "Ca"
       ]
      },
      {
       "output_type": "stream",
       "stream": "stdout",
       "text": [
        " : 0.0418802999812\n",
        "P"
       ]
      },
      {
       "output_type": "stream",
       "stream": "stdout",
       "text": [
        " : 0.308763525789\n",
        "Sand"
       ]
      },
      {
       "output_type": "stream",
       "stream": "stdout",
       "text": [
        " : 0.874637394588\n",
        "SOC"
       ]
      },
      {
       "output_type": "stream",
       "stream": "stdout",
       "text": [
        " : 0.78550870657\n",
        "pH"
       ]
      },
      {
       "output_type": "stream",
       "stream": "stdout",
       "text": [
        " : 0.764288295509\n",
        "Ca"
       ]
      },
      {
       "output_type": "stream",
       "stream": "stdout",
       "text": [
        " : 0.250576802958\n",
        "P"
       ]
      },
      {
       "output_type": "stream",
       "stream": "stdout",
       "text": [
        " : 0.622524018569\n",
        "Sand"
       ]
      },
      {
       "output_type": "stream",
       "stream": "stdout",
       "text": [
        " : 0.289382518048\n"
       ]
      }
     ],
     "prompt_number": 30
    },
    {
     "cell_type": "code",
     "collapsed": false,
     "input": [
      "for target in COLS_TARGET:\n",
      "    figure()\n",
      "    train[target].hist(bins=100)"
     ],
     "language": "python",
     "metadata": {},
     "outputs": [
      {
       "metadata": {},
       "output_type": "display_data",
       "png": "[encoded data removed]",
       "text": [
        "<matplotlib.figure.Figure at 0x1212d9cd0>"
       ]
      },
      {
       "metadata": {},
       "output_type": "display_data",
       "png": "[encoded data removed]",
       "text": [
        "<matplotlib.figure.Figure at 0x120c86990>"
       ]
      },
      {
       "metadata": {},
       "output_type": "display_data",
       "png": "[encoded data removed]",
       "text": [
        "<matplotlib.figure.Figure at 0x121c75650>"
       ]
      },
      {
       "metadata": {},
       "output_type": "display_data",
       "png": "[encoded data removed]",
       "text": [
        "<matplotlib.figure.Figure at 0x120b68310>"
       ]
      },
      {
       "metadata": {},
       "output_type": "display_data",
       "png": "[encoded data removed]",
       "text": [
        "<matplotlib.figure.Figure at 0x121a85990>"
       ]
      }
     ],
     "prompt_number": 22
    },
    {
     "cell_type": "code",
     "collapsed": false,
     "input": [
      "# generate a benchmark result\n",
      "from sklearn.neighbors import KNeighborsRegressor\n",
      "from sklearn.svm import SVR\n",
      "X_train = train[COLS_FEATURES]\n",
      "X_test = test[COLS_FEATURES]\n",
      "submission = pd.DataFrame(index=test.index)\n",
      "for target in COLS_TARGET:\n",
      "    y_train = train[target].values\n",
      "#     clf = KNeighborsRegressor(7)\n",
      "    clf = SVR(C=10000.)\n",
      "    y_pred = clf.fit(X_train, y_train).predict(X_test)\n",
      "    submission[target] = y_pred\n",
      "    \n",
      "print submission\n",
      "submission.to_csv('output/submission.csv')"
     ],
     "language": "python",
     "metadata": {},
     "outputs": [
      {
       "output_type": "stream",
       "stream": "stdout",
       "text": [
        "                Ca         P        pH       SOC      Sand\n",
        "PIDN                                                      \n",
        "09gt9UK5 -0.589443  0.057256 -1.300894 -0.492188  1.643955\n",
        "0BVvxJ6a  0.251022 -0.101184  0.927155  0.278999 -1.991730\n",
        "0KbdgApg -0.025670 -0.363068 -0.037226  0.092791 -0.604019\n",
        "0MnuuduB -0.406854 -0.288580 -0.041547  0.554462 -0.665752\n",
        "0PcIsF9z -0.477185 -0.164725 -1.975485  0.114568 -0.190498\n",
        "0ShTFLYJ -0.559968 -0.761654 -0.855069 -1.059874  0.335610\n",
        "0XZh9jka -0.407078  0.201985 -1.098097  0.542369 -1.001990\n",
        "0Y7Wegri -0.291069  0.388017  0.020388 -0.134995  0.055824\n",
        "0dTqplIM  0.020035  0.102514  0.843252  0.266634 -1.127270\n",
        "0lNiZicC -0.502756 -0.193726 -2.462741 -0.924785 -0.139611\n",
        "0rGeJ0QN -0.489745  0.021898 -0.883956  0.430724 -0.435116\n",
        "0sXI9ytQ -0.648671 -0.336195  0.070361 -0.836791  1.443106\n",
        "0ukt4aP6  0.603574  0.097453  1.681031 -0.976842  0.822930\n",
        "1AGspb8f -0.353298 -0.524820 -0.850898 -0.054177 -1.494661\n",
        "1Csy0gvE -0.494109  0.023993  0.242768 -0.610068  0.740780\n",
        "1Ic2hly1 -0.301619  0.462983 -0.311915 -0.070921  0.820620\n",
        "1PPbaTwt -0.462677  0.247969 -0.574147 -0.434025  1.468282\n",
        "1SO5VJNy -0.266817  0.015692  0.062371 -0.418646  0.451227\n",
        "1arHxK3Y  0.894804  0.180474  1.699338  0.424363 -0.228892\n",
        "1fCW4Bba -0.502811  0.568814 -0.292015 -0.373880  1.153019\n",
        "1qDZNvIm -0.472496 -0.447785 -0.131944 -0.933623  0.893486\n",
        "28LYJC2V -0.374717 -0.358172 -0.991789  0.537409 -0.898468\n",
        "2CzACvQq  0.547239  0.875520  1.938581 -0.385321 -0.155042\n",
        "2FT3crfv -0.372961 -0.072837  0.712724  0.172981 -0.727795\n",
        "2Fy2uHVg -0.548871 -0.056429 -0.572478 -0.285106 -0.540771\n",
        "2MkMEApm -0.449734  0.245780 -0.006851 -0.582393  1.527841\n",
        "2NDGWEOe  0.946645  0.392011  1.712466 -0.704139 -0.822232\n",
        "2NyyCiqn -0.235279  0.024511  0.019335 -0.425572  0.516697\n",
        "2QRzIb84  0.037858  0.610443  1.911141 -0.591045  0.552346\n",
        "2QcbdrUZ -0.525665 -0.549221  0.378627 -0.396343  0.565589\n",
        "...            ...       ...       ...       ...       ...\n",
        "wzaKzYwi  0.167294 -0.467174  1.339106 -0.635875  0.825789\n",
        "x6GCk4EV -0.213081 -0.132731 -0.096609 -0.443133  0.394212\n",
        "x6lUi3vf  0.059974 -0.166664  0.630202  0.374084 -1.291220\n",
        "x8mwDHv9 -0.381802 -0.223424  0.174052 -0.294486  0.048656\n",
        "xIYm6puH  0.496244  0.091812 -0.234955  0.457502 -1.583382\n",
        "xO6UdpsK  0.450299 -0.580527 -0.284568 -0.259493 -1.955026\n",
        "xQ2bkOvj -0.849542 -0.479367 -1.542734  0.181674 -1.666940\n",
        "xeXyDCEQ  3.131892 -0.236683  2.211241  0.988962 -0.709499\n",
        "xrggHziO -0.308140 -0.267788 -0.005527 -0.350023  0.301150\n",
        "y1WMCmqQ -0.300890 -0.348838 -0.355111 -0.357510  0.184655\n",
        "yDngezhM -0.420375 -0.383536 -1.239580 -0.922966 -0.381894\n",
        "yLiFjMD0 -0.511548 -0.099565 -0.026249 -0.595388  1.489804\n",
        "ySwEBO7w -0.448893 -0.295099 -0.546927 -0.065384 -1.204277\n",
        "ydC9UsSm -0.460122 -0.127513 -1.911205  0.889498 -0.102875\n",
        "ydEG4VBd -0.389221  0.087273 -1.218788 -0.138168  1.252592\n",
        "yf76yWXc -0.402527  0.799805  0.924662 -0.875341  0.229021\n",
        "yg70e63n -0.325461 -0.143338 -0.507074 -0.201501  0.140793\n",
        "ywxtlSKv -0.498497 -0.326161 -0.966530 -0.370254 -0.054797\n",
        "yzKPQPOR -0.769782 -0.434776 -0.921879 -0.230992 -1.355826\n",
        "z5cnOnZ1 -0.440789 -0.425818  0.107812 -0.478319 -0.489726\n",
        "zFLkOE0e  0.301790 -0.218454  0.523218  0.429887 -0.922336\n",
        "zGi72mxL -0.693926 -0.388939  0.408979 -0.295901 -0.919333\n",
        "zN925UV3 -0.406924 -0.373920 -1.486158  0.103792 -1.101549\n",
        "zTy2ih7e -0.293647 -0.300671 -1.648625 -0.917199  0.967127\n",
        "zVFzAutw -0.440278  0.057978 -0.321626 -0.392303  1.050118\n",
        "zYxNAkht -0.684109 -0.311409 -1.261244 -0.837037  0.657698\n",
        "zaWDBai3 -0.594735  0.155582 -0.666838 -0.270152  1.482684\n",
        "zg3u0Zsx -0.328827  0.041212 -0.235158  0.058403  0.371430\n",
        "zlwLfdsS -0.571713 -0.305273 -0.835573  1.160427 -1.215850\n",
        "zmbKzVfl -0.386598 -0.447748 -2.182296 -0.379490  0.255971\n",
        "\n",
        "[727 rows x 5 columns]\n"
       ]
      }
     ],
     "prompt_number": 8
    },
    {
     "cell_type": "code",
     "collapsed": false,
     "input": [],
     "language": "python",
     "metadata": {},
     "outputs": []
    }
   ],
   "metadata": {}
  }
 ]
}