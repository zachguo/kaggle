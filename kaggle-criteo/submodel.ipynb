{
 "metadata": {
  "name": "",
  "signature": "sha256:fadbd852010aa85cd230ecba05bc7b562278fdc618df0324adff5ed2fb11c0ac"
 },
 "nbformat": 3,
 "nbformat_minor": 0,
 "worksheets": [
  {
   "cells": [
    {
     "cell_type": "code",
     "collapsed": false,
     "input": [
      "%matplotlib inline\n",
      "%pylab inline\n",
      "import pandas as pd"
     ],
     "language": "python",
     "metadata": {},
     "outputs": [
      {
       "output_type": "stream",
       "stream": "stdout",
       "text": [
        "Populating the interactive namespace from numpy and matplotlib\n"
       ]
      }
     ],
     "prompt_number": 1
    },
    {
     "cell_type": "code",
     "collapsed": false,
     "input": [
      "train = pd.read_csv('data/submodels_by_C20/train_.csv', index_col='Id', nrows=18607630)\n",
      "# train.describe()"
     ],
     "language": "python",
     "metadata": {},
     "outputs": [],
     "prompt_number": 2
    },
    {
     "cell_type": "code",
     "collapsed": false,
     "input": [
      "test = pd.read_csv('data/submodels_by_C20/test_.csv', index_col='Id', nrows=2664225)\n",
      "# test.describe()"
     ],
     "language": "python",
     "metadata": {},
     "outputs": [
      {
       "html": [
        "<div style=\"max-height:1000px;max-width:1500px;overflow:auto;\">\n",
        "<table border=\"1\" class=\"dataframe\">\n",
        "  <thead>\n",
        "    <tr style=\"text-align: right;\">\n",
        "      <th></th>\n",
        "      <th>I1</th>\n",
        "      <th>I2</th>\n",
        "      <th>I3</th>\n",
        "      <th>I4</th>\n",
        "      <th>I5</th>\n",
        "      <th>I6</th>\n",
        "      <th>I7</th>\n",
        "      <th>I8</th>\n",
        "      <th>I9</th>\n",
        "      <th>I10</th>\n",
        "      <th>I11</th>\n",
        "      <th>I12</th>\n",
        "      <th>I13</th>\n",
        "      <th>C6</th>\n",
        "      <th>C9</th>\n",
        "      <th>C14</th>\n",
        "      <th>C17</th>\n",
        "      <th>C22</th>\n",
        "      <th>C23</th>\n",
        "      <th>bgctr</th>\n",
        "    </tr>\n",
        "  </thead>\n",
        "  <tbody>\n",
        "    <tr>\n",
        "      <th>count</th>\n",
        "      <td> 1447379.000000</td>\n",
        "      <td> 2664224.000000</td>\n",
        "      <td> 1779193.000000</td>\n",
        "      <td> 2035020.000000</td>\n",
        "      <td> 2545066.000000</td>\n",
        "      <td> 1985577.000000</td>\n",
        "      <td> 2503462.000000</td>\n",
        "      <td> 2661032.000000</td>\n",
        "      <td> 2503462.000000</td>\n",
        "      <td> 1447379.000000</td>\n",
        "      <td> 2503462.000000</td>\n",
        "      <td> 651433.000000</td>\n",
        "      <td> 2035020.000000</td>\n",
        "      <td> 2.520891e+06</td>\n",
        "      <td> 2.664224e+06</td>\n",
        "      <td> 2.664224e+06</td>\n",
        "      <td> 2.664224e+06</td>\n",
        "      <td> 6.888420e+05</td>\n",
        "      <td> 2.664224e+06</td>\n",
        "      <td> 2664224.000000</td>\n",
        "    </tr>\n",
        "    <tr>\n",
        "      <th>mean</th>\n",
        "      <td>       0.769258</td>\n",
        "      <td>       2.269978</td>\n",
        "      <td>       1.647450</td>\n",
        "      <td>       1.633054</td>\n",
        "      <td>       7.486676</td>\n",
        "      <td>       3.548643</td>\n",
        "      <td>       1.634284</td>\n",
        "      <td>       1.992728</td>\n",
        "      <td>       3.590753</td>\n",
        "      <td>       0.352425</td>\n",
        "      <td>       0.938831</td>\n",
        "      <td>      0.288412</td>\n",
        "      <td>       1.670109</td>\n",
        "      <td> 3.114648e+09</td>\n",
        "      <td> 2.734665e+09</td>\n",
        "      <td> 1.594977e+09</td>\n",
        "      <td> 2.511121e+09</td>\n",
        "      <td> 3.043906e+09</td>\n",
        "      <td> 1.458673e+09</td>\n",
        "      <td>       0.257778</td>\n",
        "    </tr>\n",
        "    <tr>\n",
        "      <th>std</th>\n",
        "      <td>       0.953580</td>\n",
        "      <td>       2.122132</td>\n",
        "      <td>       0.906097</td>\n",
        "      <td>       0.869817</td>\n",
        "      <td>       2.818784</td>\n",
        "      <td>       1.817019</td>\n",
        "      <td>       1.400297</td>\n",
        "      <td>       1.166159</td>\n",
        "      <td>       1.703127</td>\n",
        "      <td>       0.401880</td>\n",
        "      <td>       0.801706</td>\n",
        "      <td>      0.647125</td>\n",
        "      <td>       0.927143</td>\n",
        "      <td> 1.186895e+09</td>\n",
        "      <td> 2.137260e+08</td>\n",
        "      <td> 1.370141e+09</td>\n",
        "      <td> 1.535113e+09</td>\n",
        "      <td> 2.978965e+08</td>\n",
        "      <td> 9.619751e+08</td>\n",
        "      <td>       0.007958</td>\n",
        "    </tr>\n",
        "    <tr>\n",
        "      <th>min</th>\n",
        "      <td>       0.000000</td>\n",
        "      <td>       0.000000</td>\n",
        "      <td>       0.000000</td>\n",
        "      <td>       0.000000</td>\n",
        "      <td>       0.000000</td>\n",
        "      <td>       0.000000</td>\n",
        "      <td>       0.000000</td>\n",
        "      <td>       0.000000</td>\n",
        "      <td>       0.000000</td>\n",
        "      <td>       0.000000</td>\n",
        "      <td>       0.000000</td>\n",
        "      <td>      0.000000</td>\n",
        "      <td>       0.000000</td>\n",
        "      <td> 8.595421e+07</td>\n",
        "      <td> 2.093428e+09</td>\n",
        "      <td> 8.507236e+07</td>\n",
        "      <td> 1.303677e+08</td>\n",
        "      <td> 5.283886e+07</td>\n",
        "      <td> 6.356847e+08</td>\n",
        "      <td>       0.229789</td>\n",
        "    </tr>\n",
        "    <tr>\n",
        "      <th>25%</th>\n",
        "      <td>       0.000000</td>\n",
        "      <td>       0.693147</td>\n",
        "      <td>       0.693147</td>\n",
        "      <td>       1.098612</td>\n",
        "      <td>       6.539586</td>\n",
        "      <td>       2.197225</td>\n",
        "      <td>       0.693147</td>\n",
        "      <td>       1.098612</td>\n",
        "      <td>       2.302585</td>\n",
        "      <td>       0.000000</td>\n",
        "      <td>       0.693147</td>\n",
        "      <td>      0.000000</td>\n",
        "      <td>       1.098612</td>\n",
        "      <td> 2.114768e+09</td>\n",
        "      <td> 2.805917e+09</td>\n",
        "      <td> 1.311525e+08</td>\n",
        "      <td> 6.669260e+08</td>\n",
        "      <td> 2.905629e+09</td>\n",
        "      <td> 8.519208e+08</td>\n",
        "      <td>       0.252008</td>\n",
        "    </tr>\n",
        "    <tr>\n",
        "      <th>50%</th>\n",
        "      <td>       0.693147</td>\n",
        "      <td>       1.791759</td>\n",
        "      <td>       1.386294</td>\n",
        "      <td>       1.609438</td>\n",
        "      <td>       8.165648</td>\n",
        "      <td>       3.663562</td>\n",
        "      <td>       1.386294</td>\n",
        "      <td>       2.079442</td>\n",
        "      <td>       3.737670</td>\n",
        "      <td>       0.000000</td>\n",
        "      <td>       0.693147</td>\n",
        "      <td>      0.000000</td>\n",
        "      <td>       1.609438</td>\n",
        "      <td> 4.222443e+09</td>\n",
        "      <td> 2.805917e+09</td>\n",
        "      <td> 1.690913e+09</td>\n",
        "      <td> 3.569057e+09</td>\n",
        "      <td> 2.905629e+09</td>\n",
        "      <td> 9.745937e+08</td>\n",
        "      <td>       0.257590</td>\n",
        "    </tr>\n",
        "    <tr>\n",
        "      <th>75%</th>\n",
        "      <td>       1.386294</td>\n",
        "      <td>       3.784190</td>\n",
        "      <td>       2.197225</td>\n",
        "      <td>       2.197225</td>\n",
        "      <td>       9.376109</td>\n",
        "      <td>       4.912655</td>\n",
        "      <td>       2.564949</td>\n",
        "      <td>       2.944439</td>\n",
        "      <td>       4.890349</td>\n",
        "      <td>       0.693147</td>\n",
        "      <td>       1.386294</td>\n",
        "      <td>      0.000000</td>\n",
        "      <td>       2.302585</td>\n",
        "      <td> 4.268463e+09</td>\n",
        "      <td> 2.805917e+09</td>\n",
        "      <td> 2.995026e+09</td>\n",
        "      <td> 3.854202e+09</td>\n",
        "      <td> 3.386123e+09</td>\n",
        "      <td> 1.440560e+09</td>\n",
        "      <td>       0.261695</td>\n",
        "    </tr>\n",
        "    <tr>\n",
        "      <th>max</th>\n",
        "      <td>       7.125283</td>\n",
        "      <td>      10.001295</td>\n",
        "      <td>      10.293399</td>\n",
        "      <td>       6.190315</td>\n",
        "      <td>      14.809824</td>\n",
        "      <td>      11.119898</td>\n",
        "      <td>       9.436759</td>\n",
        "      <td>       8.729882</td>\n",
        "      <td>       9.510519</td>\n",
        "      <td>       2.197225</td>\n",
        "      <td>       5.087596</td>\n",
        "      <td>      6.393591</td>\n",
        "      <td>       8.607948</td>\n",
        "      <td> 4.268463e+09</td>\n",
        "      <td> 2.805917e+09</td>\n",
        "      <td> 4.167234e+09</td>\n",
        "      <td> 3.854202e+09</td>\n",
        "      <td> 4.108059e+09</td>\n",
        "      <td> 3.686041e+09</td>\n",
        "      <td>       0.280532</td>\n",
        "    </tr>\n",
        "  </tbody>\n",
        "</table>\n",
        "</div>"
       ],
       "metadata": {},
       "output_type": "pyout",
       "prompt_number": 6,
       "text": [
        "                   I1              I2              I3              I4  \\\n",
        "count  1447379.000000  2664224.000000  1779193.000000  2035020.000000   \n",
        "mean         0.769258        2.269978        1.647450        1.633054   \n",
        "std          0.953580        2.122132        0.906097        0.869817   \n",
        "min          0.000000        0.000000        0.000000        0.000000   \n",
        "25%          0.000000        0.693147        0.693147        1.098612   \n",
        "50%          0.693147        1.791759        1.386294        1.609438   \n",
        "75%          1.386294        3.784190        2.197225        2.197225   \n",
        "max          7.125283       10.001295       10.293399        6.190315   \n",
        "\n",
        "                   I5              I6              I7              I8  \\\n",
        "count  2545066.000000  1985577.000000  2503462.000000  2661032.000000   \n",
        "mean         7.486676        3.548643        1.634284        1.992728   \n",
        "std          2.818784        1.817019        1.400297        1.166159   \n",
        "min          0.000000        0.000000        0.000000        0.000000   \n",
        "25%          6.539586        2.197225        0.693147        1.098612   \n",
        "50%          8.165648        3.663562        1.386294        2.079442   \n",
        "75%          9.376109        4.912655        2.564949        2.944439   \n",
        "max         14.809824       11.119898        9.436759        8.729882   \n",
        "\n",
        "                   I9             I10             I11            I12  \\\n",
        "count  2503462.000000  1447379.000000  2503462.000000  651433.000000   \n",
        "mean         3.590753        0.352425        0.938831       0.288412   \n",
        "std          1.703127        0.401880        0.801706       0.647125   \n",
        "min          0.000000        0.000000        0.000000       0.000000   \n",
        "25%          2.302585        0.000000        0.693147       0.000000   \n",
        "50%          3.737670        0.000000        0.693147       0.000000   \n",
        "75%          4.890349        0.693147        1.386294       0.000000   \n",
        "max          9.510519        2.197225        5.087596       6.393591   \n",
        "\n",
        "                  I13            C6            C9           C14           C17  \\\n",
        "count  2035020.000000  2.520891e+06  2.664224e+06  2.664224e+06  2.664224e+06   \n",
        "mean         1.670109  3.114648e+09  2.734665e+09  1.594977e+09  2.511121e+09   \n",
        "std          0.927143  1.186895e+09  2.137260e+08  1.370141e+09  1.535113e+09   \n",
        "min          0.000000  8.595421e+07  2.093428e+09  8.507236e+07  1.303677e+08   \n",
        "25%          1.098612  2.114768e+09  2.805917e+09  1.311525e+08  6.669260e+08   \n",
        "50%          1.609438  4.222443e+09  2.805917e+09  1.690913e+09  3.569057e+09   \n",
        "75%          2.302585  4.268463e+09  2.805917e+09  2.995026e+09  3.854202e+09   \n",
        "max          8.607948  4.268463e+09  2.805917e+09  4.167234e+09  3.854202e+09   \n",
        "\n",
        "                C22           C23           bgctr  \n",
        "count  6.888420e+05  2.664224e+06  2664224.000000  \n",
        "mean   3.043906e+09  1.458673e+09        0.257778  \n",
        "std    2.978965e+08  9.619751e+08        0.007958  \n",
        "min    5.283886e+07  6.356847e+08        0.229789  \n",
        "25%    2.905629e+09  8.519208e+08        0.252008  \n",
        "50%    2.905629e+09  9.745937e+08        0.257590  \n",
        "75%    3.386123e+09  1.440560e+09        0.261695  \n",
        "max    4.108059e+09  3.686041e+09        0.280532  "
       ]
      }
     ],
     "prompt_number": 6
    },
    {
     "cell_type": "code",
     "collapsed": false,
     "input": [
      "cols_num = [x for x in train.columns if x.startswith('I')] + ['bgctr']\n",
      "cols_cat = [x for x in train.columns if x.startswith('C')]\n",
      "# print cols_num\n",
      "# print cols_cat\n",
      "\n",
      "print len(train['C6'].unique())\n",
      "\n",
      "def le(series):\n",
      "    labels = series.unique()\n",
      "    codes = range(len(labels))\n",
      "    lcmap = dict(zip(labels, codes))\n",
      "    return series.map(lcmap)\n",
      "\n",
      "print len(le(train['C6']).unique())"
     ],
     "language": "python",
     "metadata": {},
     "outputs": []
    },
    {
     "cell_type": "code",
     "collapsed": false,
     "input": [
      "from sklearn.preprocessing import LabelEncoder\n",
      "for col in cols_cat:\n",
      "    print 'Encoding', col\n",
      "    train[col] = LabelEncoder().fit_transform(train[col])\n",
      "    print train[col].unique()\n",
      "# print train"
     ],
     "language": "python",
     "metadata": {},
     "outputs": [
      {
       "output_type": "stream",
       "stream": "stdout",
       "text": [
        "Encoding C6\n",
        "[    8    21     1 ..., 11909 11959 11908]"
       ]
      },
      {
       "output_type": "stream",
       "stream": "stdout",
       "text": [
        "\n",
        "Encoding C9\n",
        "[2 0 1]"
       ]
      },
      {
       "output_type": "stream",
       "stream": "stdout",
       "text": [
        "\n",
        "Encoding C14\n",
        "[ 1  3 17  7 16  8 11  4 19 25 24  6  0 20 21 15 23 12 18 13 22  2  9  5 10\n",
        " 14]"
       ]
      },
      {
       "output_type": "stream",
       "stream": "stdout",
       "text": [
        "\n",
        "Encoding C17\n",
        "[6 1 5 9 8 0 4 2 3 7]"
       ]
      },
      {
       "output_type": "stream",
       "stream": "stdout",
       "text": [
        "\n",
        "Encoding C22\n",
        "[      11  3973001  3972993 ...,  3973008 11006705 13907464]"
       ]
      },
      {
       "output_type": "stream",
       "stream": "stdout",
       "text": [
        "\n",
        "Encoding C23\n",
        "[ 3  2 11  8 12 13  5  4 10 14  7  9  1  6  0]"
       ]
      },
      {
       "output_type": "stream",
       "stream": "stdout",
       "text": [
        "\n"
       ]
      }
     ],
     "prompt_number": 5
    },
    {
     "cell_type": "code",
     "collapsed": false,
     "input": [
      "for col in cols_cat:\n",
      "    print len(train[col].unique())"
     ],
     "language": "python",
     "metadata": {},
     "outputs": [
      {
       "output_type": "stream",
       "stream": "stdout",
       "text": [
        "1015846\n",
        "3"
       ]
      },
      {
       "output_type": "stream",
       "stream": "stdout",
       "text": [
        "\n",
        "26"
       ]
      },
      {
       "output_type": "stream",
       "stream": "stdout",
       "text": [
        "\n",
        "10"
       ]
      },
      {
       "output_type": "stream",
       "stream": "stdout",
       "text": [
        "\n",
        "13907465"
       ]
      },
      {
       "output_type": "stream",
       "stream": "stdout",
       "text": [
        "\n",
        "15"
       ]
      },
      {
       "output_type": "stream",
       "stream": "stdout",
       "text": [
        "\n"
       ]
      }
     ],
     "prompt_number": 6
    },
    {
     "cell_type": "code",
     "collapsed": false,
     "input": [
      "cols = list(set(train.columns)-set(['Label']))\n",
      "X = train[cols]\n",
      "y = train['Label'].values\n",
      "del train\n",
      "print \"Impute missing values...\"\n",
      "# from sklearn.preprocessing import Imputer\n",
      "# Imputer(copy=False).fit_transform(X)\n",
      "X.fillna(0., inplace=True)"
     ],
     "language": "python",
     "metadata": {},
     "outputs": [
      {
       "output_type": "stream",
       "stream": "stdout",
       "text": [
        "Impute missing values...\n"
       ]
      }
     ],
     "prompt_number": 5
    },
    {
     "cell_type": "code",
     "collapsed": false,
     "input": [
      "from sklearn.ensemble import ExtraTreesClassifier\n",
      "from sklearn.metrics import log_loss\n",
      "print \"Training...\"\n",
      "clf = ExtraTreesClassifier(verbose=1, n_jobs=2, max_depth=10, min_samples_leaf=50, min_samples_split=100)\n",
      "clf.fit(X, y)\n",
      "print \"Generate Log-Loss...\"\n",
      "print log_loss(y, clf.predict_proba(X))"
     ],
     "language": "python",
     "metadata": {},
     "outputs": []
    },
    {
     "cell_type": "code",
     "collapsed": false,
     "input": [],
     "language": "python",
     "metadata": {},
     "outputs": []
    }
   ],
   "metadata": {}
  }
 ]
}